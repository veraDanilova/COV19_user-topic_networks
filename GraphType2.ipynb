{
  "nbformat": 4,
  "nbformat_minor": 0,
  "metadata": {
    "kernelspec": {
      "display_name": "py38",
      "language": "python",
      "name": "py38"
    },
    "language_info": {
      "codemirror_mode": {
        "name": "ipython",
        "version": 3
      },
      "file_extension": ".py",
      "mimetype": "text/x-python",
      "name": "python",
      "nbconvert_exporter": "python",
      "pygments_lexer": "ipython3",
      "version": "3.8.5"
    },
    "colab": {
      "name": "GraphType2.ipynb",
      "provenance": [],
      "collapsed_sections": [],
      "toc_visible": true,
      "include_colab_link": true
    }
  },
  "cells": [
    {
      "cell_type": "markdown",
      "metadata": {
        "id": "view-in-github",
        "colab_type": "text"
      },
      "source": [
        "<a href=\"https://colab.research.google.com/github/veraDanilova/COV19_user-topic_networks/blob/main/GraphType2.ipynb\" target=\"_parent\"><img src=\"https://colab.research.google.com/assets/colab-badge.svg\" alt=\"Open In Colab\"/></a>"
      ]
    },
    {
      "cell_type": "code",
      "metadata": {
        "id": "BxWewdu_NFjr"
      },
      "source": [
        "# from google.colab import drive\n",
        "# drive.mount('/content/drive/')\n",
        "\n",
        "!pip install pyLDAvis\n",
        "!pip install jupyter_dash\n",
        "!pip install dash_bootstrap_components\n",
        "!pip install -U pandas-profiling\n",
        "!pip install dash-table\n",
        "!pip install pyngrok==4.1.1\n"
      ],
      "execution_count": null,
      "outputs": []
    },
    {
      "cell_type": "code",
      "metadata": {
        "colab": {
          "base_uri": "https://localhost:8080/"
        },
        "id": "8AGcL-WnnrUX",
        "outputId": "0f4e7c96-1f1c-4741-debd-737559347e45"
      },
      "source": [
        "!ngrok authtoken "
      ],
      "execution_count": 2,
      "outputs": [
        {
          "output_type": "stream",
          "text": [
            "Authtoken saved to configuration file: /root/.ngrok2/ngrok.yml\n"
          ],
          "name": "stdout"
        }
      ]
    },
    {
      "cell_type": "code",
      "metadata": {
        "colab": {
          "base_uri": "https://localhost:8080/"
        },
        "id": "7zf-dYglo0Nt",
        "outputId": "34ef2794-1289-4750-dd9b-3b2433cf8ee9"
      },
      "source": [
        "!git clone https://github.com/veraDanilova/COV19_user-topic_networks.git\n",
        "\n",
        "COPY_FILE = True\n",
        "! unzip /content/COV19_user-topic_networks/Proj_Data/COR_LJ_resized.csv.zip -d /content/COV19_user-topic_networks/Proj_Data/\n",
        "! unzip /content/COV19_user-topic_networks/Proj_Data/COR_TWI_resized.csv.zip -d /content/COV19_user-topic_networks/Proj_Data/"
      ],
      "execution_count": null,
      "outputs": [
        {
          "output_type": "stream",
          "text": [
            "fatal: destination path 'COV19_user-topic_networks' already exists and is not an empty directory.\n",
            "Archive:  /content/COV19_user-topic_networks/Proj_Data/COR_LJ_resized.csv.zip\n",
            "replace /content/COV19_user-topic_networks/Proj_Data/COR_LJ_resized.csv? [y]es, [n]o, [A]ll, [N]one, [r]ename: "
          ],
          "name": "stdout"
        }
      ]
    },
    {
      "cell_type": "code",
      "metadata": {
        "colab": {
          "base_uri": "https://localhost:8080/",
          "height": 564
        },
        "id": "rk3e_WSWwkgE",
        "outputId": "39a7c967-97ef-4dc9-d3a4-eb2ec071d105"
      },
      "source": [
        "# PANDAS TEST. В случае ошибки перезапустить среду выполнения\n",
        "\n",
        "import pandas as pd\n",
        "DF = pd.read_csv('/content/COV19_user-topic_networks/Proj_Data/COR_LJ_resized.csv', index_col = 0, engine = 'python')\n",
        "DF.head()"
      ],
      "execution_count": null,
      "outputs": [
        {
          "output_type": "execute_result",
          "data": {
            "text/html": [
              "<div>\n",
              "<style scoped>\n",
              "    .dataframe tbody tr th:only-of-type {\n",
              "        vertical-align: middle;\n",
              "    }\n",
              "\n",
              "    .dataframe tbody tr th {\n",
              "        vertical-align: top;\n",
              "    }\n",
              "\n",
              "    .dataframe thead th {\n",
              "        text-align: right;\n",
              "    }\n",
              "</style>\n",
              "<table border=\"1\" class=\"dataframe\">\n",
              "  <thead>\n",
              "    <tr style=\"text-align: right;\">\n",
              "      <th></th>\n",
              "      <th>index</th>\n",
              "      <th>tag</th>\n",
              "      <th>linkTo_post</th>\n",
              "      <th>title</th>\n",
              "      <th>acc_name</th>\n",
              "      <th>tags</th>\n",
              "      <th>date</th>\n",
              "      <th>name</th>\n",
              "      <th>birthdate</th>\n",
              "      <th>location</th>\n",
              "      <th>fulltext</th>\n",
              "      <th>sents</th>\n",
              "      <th>unigramsC</th>\n",
              "      <th>text_length</th>\n",
              "    </tr>\n",
              "  </thead>\n",
              "  <tbody>\n",
              "    <tr>\n",
              "      <th>0</th>\n",
              "      <td>13802.0</td>\n",
              "      <td>коронавирус</td>\n",
              "      <td>https://igorek3d.livejournal.com/743845.html</td>\n",
              "      <td>(Без заголовка)</td>\n",
              "      <td>igorek3d</td>\n",
              "      <td>['коронавирус']</td>\n",
              "      <td>2020-03-22 17:40:01</td>\n",
              "      <td>Иванов Игорь Анатольевич</td>\n",
              "      <td>None</td>\n",
              "      <td>{'country-name': 'Russian Federation', 'region...</td>\n",
              "      <td>хз, у нас полная тишина, вчера был в тренажерн...</td>\n",
              "      <td>['хз, у нас полная тишина, вчера был в тренаже...</td>\n",
              "      <td>['полный', 'тишина', 'вчера', 'тренажерный', '...</td>\n",
              "      <td>33.0</td>\n",
              "    </tr>\n",
              "    <tr>\n",
              "      <th>1</th>\n",
              "      <td>13800.0</td>\n",
              "      <td>коронавирус</td>\n",
              "      <td>https://grimnir74.livejournal.com/12515729.html</td>\n",
              "      <td>Министерство здравоохранения одобрило ... набо...</td>\n",
              "      <td>grimnir74</td>\n",
              "      <td>['коронавирус']</td>\n",
              "      <td>2020-03-22 17:45:09</td>\n",
              "      <td>Алексей С. Железнов</td>\n",
              "      <td>26 августа 1974</td>\n",
              "      <td>{'country-name': 'Ukraine', 'locality': 'Никол...</td>\n",
              "      <td>Министерство здравоохранения разрешило выпуск ...</td>\n",
              "      <td>['Министерство здравоохранения разрешило выпус...</td>\n",
              "      <td>['министерство', 'здравоохранение', 'разрешать...</td>\n",
              "      <td>153.0</td>\n",
              "    </tr>\n",
              "    <tr>\n",
              "      <th>2</th>\n",
              "      <td>13799.0</td>\n",
              "      <td>коронавирус</td>\n",
              "      <td>https://geomakss.livejournal.com/1724275.html</td>\n",
              "      <td>КПРФ следует наказать за митинг во время эпидемии</td>\n",
              "      <td>geomakss</td>\n",
              "      <td>['кпрф', 'коммунизм', 'политика', 'коронавирус...</td>\n",
              "      <td>2020-03-22 17:46:36</td>\n",
              "      <td>geomakss</td>\n",
              "      <td>20 августа</td>\n",
              "      <td>{'country-name': 'Russian Federation', 'region...</td>\n",
              "      <td>Похоже коммунисты вообразили себя непробиваемы...</td>\n",
              "      <td>['Похоже коммунисты вообразили себя непробивае...</td>\n",
              "      <td>['похоже', 'коммунист', 'воображать', 'непроби...</td>\n",
              "      <td>116.0</td>\n",
              "    </tr>\n",
              "    <tr>\n",
              "      <th>3</th>\n",
              "      <td>13798.0</td>\n",
              "      <td>коронавирус</td>\n",
              "      <td>https://umgezogen.livejournal.com/147000.html</td>\n",
              "      <td>Очень рекомендую посмотреть, как там, в Китае</td>\n",
              "      <td>umgezogen</td>\n",
              "      <td>['коронавирус', 'правительство скрывает', 'кет...</td>\n",
              "      <td>2020-03-22 17:49:34</td>\n",
              "      <td>umgezogen</td>\n",
              "      <td>14 августа 1967</td>\n",
              "      <td>{'country-name': 'Germany', 'locality': 'Nürnb...</td>\n",
              "      <td>Чтобы вы понимали 1. Кого там лечат, сколько э...</td>\n",
              "      <td>['Чтобы вы понимали 1.', 'Кого там лечат, скол...</td>\n",
              "      <td>['понимать', 'лечить', 'стоять', 'доступный', ...</td>\n",
              "      <td>15.0</td>\n",
              "    </tr>\n",
              "    <tr>\n",
              "      <th>4</th>\n",
              "      <td>13797.0</td>\n",
              "      <td>коронавирус</td>\n",
              "      <td>https://denyaleto.livejournal.com/206525.html</td>\n",
              "      <td>Дончанин в Шэньчжэнь: \"Китай находится на фини...</td>\n",
              "      <td>denyaleto</td>\n",
              "      <td>['аваков', 'донецк', 'covid-19', 'шэньчжэнь', ...</td>\n",
              "      <td>2020-03-22 17:51:03</td>\n",
              "      <td>denyaleto</td>\n",
              "      <td>28 декабря</td>\n",
              "      <td>{'country-name': 'Ukraine', 'locality': 'Донецк'}</td>\n",
              "      <td>В бытность моего студенчества многие мои сокур...</td>\n",
              "      <td>['В бытность моего студенчества многие мои сок...</td>\n",
              "      <td>['бытность', 'студенчество', 'сокурсник', 'гов...</td>\n",
              "      <td>901.0</td>\n",
              "    </tr>\n",
              "  </tbody>\n",
              "</table>\n",
              "</div>"
            ],
            "text/plain": [
              "     index  ... text_length\n",
              "0  13802.0  ...        33.0\n",
              "1  13800.0  ...       153.0\n",
              "2  13799.0  ...       116.0\n",
              "3  13798.0  ...        15.0\n",
              "4  13797.0  ...       901.0\n",
              "\n",
              "[5 rows x 14 columns]"
            ]
          },
          "metadata": {
            "tags": []
          },
          "execution_count": 19
        }
      ]
    },
    {
      "cell_type": "markdown",
      "metadata": {
        "id": "Zzx3PEwiCNEV"
      },
      "source": [
        "# GRAPH TYPE 2 JupyterDash\n",
        "\n",
        "\"Add folder to My Drive\". It will create a symlink (it won't copy, won't take space). He can now mount it the same way as you, using drive.mount(..).\n",
        "\n",
        "Share the folder with him. Then access the folder and files within using pydrive, not drive.mount(). You must use the FILE_ID instead of file names to refer to those folder and files.\n",
        "\n",
        "\n"
      ]
    },
    {
      "cell_type": "code",
      "metadata": {
        "id": "7KzJnZWYDF-e",
        "colab": {
          "base_uri": "https://localhost:8080/",
          "height": 51
        },
        "outputId": "b8bd494e-4136-49d2-a520-e2aa2ae14513"
      },
      "source": [
        "# %%writefile COV19_user-topic_networks.py\n",
        "import sys\n",
        "sys.path.append('/content/COV19_user-topic_networks/Proj_Data')\n",
        "\"\"\"\n",
        "BIDIRECTED GRAPH, UNIFIED TOPIC TABLE\n",
        "\n",
        "\"\"\"\n",
        "\n",
        "# general\n",
        "import re\n",
        "import string\n",
        "import gzip\n",
        "import os\n",
        "import itertools\n",
        "import sklearn.preprocessing\n",
        "\n",
        "# data\n",
        "import pandas as pd\n",
        "import json\n",
        "import gensim\n",
        "import gensim.corpora as corpora\n",
        "\n",
        "\n",
        "# LDA\n",
        "from gensim.models import CoherenceModel\n",
        "from gensim.models.wrappers import LdaMallet\n",
        "import pyLDAvis\n",
        "\n",
        "# Plotting tools\n",
        "import matplotlib.pyplot as plt\n",
        "# %matplotlib inline\n",
        "import networkx as nx\n",
        "import plotly.io as pio\n",
        "pio.renderers.default='notebook'\n",
        "import plotly as py\n",
        "import plotly.graph_objs as go\n",
        "import ipywidgets as widgets\n",
        "from plotly.offline import download_plotlyjs, init_notebook_mode,  iplot, plot\n",
        "init_notebook_mode(connected=True)\n",
        "\n",
        "\n",
        "from jupyter_dash import JupyterDash\n",
        "import dash\n",
        "import dash_core_components as dcc\n",
        "import dash_html_components as html\n",
        "import dash_bootstrap_components as dbc\n",
        "from dash.dependencies import Input, Output\n",
        "import LoadGraphData\n",
        "from LoadGraphData import GraphType2D\n",
        "proxy = JupyterDash.infer_jupyter_proxy_config()\n",
        "\n",
        "root_folder = '/content/COV19_user-topic_networks/Proj_Data/'\n",
        "\n",
        "# external_stylesheets = ['https://codepen.io/chriddyp/pen/bWLwgP.css']\n",
        "# app = JupyterDash(__name__, external_stylesheets=external_stylesheets)\n",
        "\n",
        "\n",
        "app = JupyterDash(__name__,external_stylesheets=[dbc.themes.COSMO])\n",
        "\n",
        "wnums = ['w1', 'w2', 'w3', 'w4', 'w5', 'w6', 'w7', 'w8', 'w9', 'w10']\n",
        "week_dates = [(\"2020-03-22 - 2020-03-29\"), \n",
        "        (\"2020-03-29 - 2020-04-05\"),\n",
        "        (\"2020-04-05 - 2020-04-12\"),\n",
        "        (\"2020-04-12 - 2020-04-19\"),\n",
        "        (\"2020-04-19 - 2020-04-26\"),\n",
        "        (\"2020-04-26 - 2020-05-03\"),\n",
        "        (\"2020-05-03 - 2020-05-10\"),\n",
        "        (\"2020-05-10 - 2020-05-17\"),\n",
        "        (\"2020-05-17 - 2020-05-24\"),\n",
        "        (\"2020-05-24 - 2020-06-01\")]\n",
        "app.layout = html.Div([\n",
        "        html.H1(\"Weekly changes of User Attention to COVID-related topics (March 22 - June 1, 2020)\", style = {'color': 'navy'}),\n",
        "        html.Div(\n",
        "            [html.Div([\n",
        "            dcc.Dropdown(\n",
        "                id='week-filter',\n",
        "                options=[{'label': i +' : '+ wd, 'value': i} for i,wd in zip(wnums, week_dates)],\n",
        "                value='w1'\n",
        "            )], style={'width': '50%'}),\n",
        "            \n",
        "            html.Div([\n",
        "            dcc.RadioItems(\n",
        "                id='cluster-filter',\n",
        "                options=[{'label': 'Cluster of '+ t, 'value': i} for i,t in zip([0, 1],['uniform activity','one-week users'])],\n",
        "                value=0,\n",
        "                labelStyle={'display': 'inline-block'},\n",
        "                # className = 'button'           \n",
        "            ),\n",
        "            \n",
        "            dcc.RadioItems(\n",
        "                id='net-filter',\n",
        "                options=[{'label': i, 'value': i} for i in ['LJ', 'Twi']],\n",
        "                value='LJ',\n",
        "                labelStyle={'display': 'inline-block'},\n",
        "                # className = 'button'\n",
        "                )\n",
        "        ])\n",
        "            ],\n",
        "        style={'display': 'flex'}),\n",
        "    \n",
        "        html.Div([\n",
        "            dcc.Graph(id = 'dd-output-container')],\n",
        "        style={'width': '70%'})\n",
        "            ])\n",
        " \n",
        "\n",
        "@app.callback(\n",
        "    dash.dependencies.Output('dd-output-container', 'figure'),\n",
        "#     [dash.dependencies.Input('week'+i, 'value') for i in wnums]+\n",
        "    [dash.dependencies.Input('week-filter', 'value'),\n",
        "    dash.dependencies.Input('cluster-filter', 'value'),\n",
        "    dash.dependencies.Input('net-filter', 'value')]\n",
        ")\n",
        "def update_output(weekfilter, clusterfilter, netfilter):\n",
        "    \n",
        "    net = netfilter\n",
        "    wnum = weekfilter\n",
        "    cl_id = clusterfilter\n",
        "\n",
        "    G = GraphType2D(net,wnum,cl_id,root_folder)\n",
        "    fig = G.runBuildGraph()\n",
        "\n",
        "    return fig\n",
        "# if __name__ == '__main__':\n",
        "    # app.run_server(mode='external', port = '8050',debug = True)\n",
        "    # app.run_server(host='127.0.0.1', port='8050', proxy=proxy, debug=False, dev_tools_ui=None, dev_tools_props_check=None, dev_tools_serve_dev_bundles=None, dev_tools_hot_reload=None, dev_tools_hot_reload_interval=None, dev_tools_hot_reload_watch_interval=None, dev_tools_hot_reload_max_retry=None, dev_tools_silence_routes_logging=None, dev_tools_prune_errors=None)\n",
        "# app.run_server(host='127.0.0.1', port='8050')\n",
        "app.run_server(mode='external')"
      ],
      "execution_count": 10,
      "outputs": [
        {
          "output_type": "display_data",
          "data": {
            "text/html": [
              "        <script type=\"text/javascript\">\n",
              "        window.PlotlyConfig = {MathJaxConfig: 'local'};\n",
              "        if (window.MathJax) {MathJax.Hub.Config({SVG: {font: \"STIX-Web\"}});}\n",
              "        if (typeof require !== 'undefined') {\n",
              "        require.undef(\"plotly\");\n",
              "        requirejs.config({\n",
              "            paths: {\n",
              "                'plotly': ['https://cdn.plot.ly/plotly-latest.min']\n",
              "            }\n",
              "        });\n",
              "        require(['plotly'], function(Plotly) {\n",
              "            window._Plotly = Plotly;\n",
              "        });\n",
              "        }\n",
              "        </script>\n",
              "        "
            ]
          },
          "metadata": {
            "tags": []
          }
        },
        {
          "output_type": "stream",
          "text": [
            "Dash app running on:\n"
          ],
          "name": "stdout"
        },
        {
          "output_type": "display_data",
          "data": {
            "application/javascript": [
              "(async (port, path, text, element) => {\n",
              "    if (!google.colab.kernel.accessAllowed) {\n",
              "      return;\n",
              "    }\n",
              "    element.appendChild(document.createTextNode(''));\n",
              "    const url = await google.colab.kernel.proxyPort(port);\n",
              "    const anchor = document.createElement('a');\n",
              "    anchor.href = url + path;\n",
              "    anchor.target = '_blank';\n",
              "    anchor.setAttribute('data-href', url + path);\n",
              "    anchor.textContent = text;\n",
              "    element.appendChild(anchor);\n",
              "  })(8050, \"/\", \"http://127.0.0.1:8050/\", window.element)"
            ],
            "text/plain": [
              "<IPython.core.display.Javascript object>"
            ]
          },
          "metadata": {
            "tags": []
          }
        }
      ]
    },
    {
      "cell_type": "code",
      "metadata": {
        "colab": {
          "base_uri": "https://localhost:8080/",
          "height": 497
        },
        "id": "4Q16vwYYofLR",
        "outputId": "b7d63424-8d95-4367-8704-98530e6221f8"
      },
      "source": [
        "# # Open a ngrok tunnel to the HTTP server\n",
        "# public_url = ngrok.connect(5000).public_url\n",
        "# print(\" * ngrok tunnel \\\"{}\\\" -> \\\"http://127.0.0.1:{}/\\\"\".format(public_url, 5000))\n",
        "\n",
        "# # Update any base URLs to use the public ngrok URL\n",
        "# app.config[\"BASE_URL\"] = public_url\n",
        "\n",
        "\n",
        "from pyngrok import ngrok\n",
        "# Open a HTTP tunnel on the default port 80\n",
        "public_url = ngrok.connect(port = '8050')\n"
      ],
      "execution_count": 9,
      "outputs": [
        {
          "output_type": "stream",
          "text": [
            "t=2021-04-24T12:19:45+0000 lvl=warn msg=\"failed to start tunnel\" pg=/api/tunnels id=1bb82dbe29352e34 err=\"Your account may not run more than 4 tunnels over a single ngrok client session.\\nThe tunnels already running on this session are:\\n[]\\n\\r\\n\\r\\nERR_NGROK_324\\r\\n\"\n",
            "\n"
          ],
          "name": "stderr"
        },
        {
          "output_type": "error",
          "ename": "PyngrokNgrokHTTPError",
          "evalue": "ignored",
          "traceback": [
            "\u001b[0;31m---------------------------------------------------------------------------\u001b[0m",
            "\u001b[0;31mHTTPError\u001b[0m                                 Traceback (most recent call last)",
            "\u001b[0;32m/usr/local/lib/python3.7/dist-packages/pyngrok/ngrok.py\u001b[0m in \u001b[0;36mapi_request\u001b[0;34m(url, method, data, params, timeout)\u001b[0m\n\u001b[1;32m    288\u001b[0m     \u001b[0;32mtry\u001b[0m\u001b[0;34m:\u001b[0m\u001b[0;34m\u001b[0m\u001b[0;34m\u001b[0m\u001b[0m\n\u001b[0;32m--> 289\u001b[0;31m         \u001b[0mresponse\u001b[0m \u001b[0;34m=\u001b[0m \u001b[0murlopen\u001b[0m\u001b[0;34m(\u001b[0m\u001b[0mrequest\u001b[0m\u001b[0;34m,\u001b[0m \u001b[0mdata\u001b[0m\u001b[0;34m,\u001b[0m \u001b[0mtimeout\u001b[0m\u001b[0;34m)\u001b[0m\u001b[0;34m\u001b[0m\u001b[0;34m\u001b[0m\u001b[0m\n\u001b[0m\u001b[1;32m    290\u001b[0m         \u001b[0mresponse_data\u001b[0m \u001b[0;34m=\u001b[0m \u001b[0mresponse\u001b[0m\u001b[0;34m.\u001b[0m\u001b[0mread\u001b[0m\u001b[0;34m(\u001b[0m\u001b[0;34m)\u001b[0m\u001b[0;34m.\u001b[0m\u001b[0mdecode\u001b[0m\u001b[0;34m(\u001b[0m\u001b[0;34m\"utf-8\"\u001b[0m\u001b[0;34m)\u001b[0m\u001b[0;34m\u001b[0m\u001b[0;34m\u001b[0m\u001b[0m\n",
            "\u001b[0;32m/usr/lib/python3.7/urllib/request.py\u001b[0m in \u001b[0;36murlopen\u001b[0;34m(url, data, timeout, cafile, capath, cadefault, context)\u001b[0m\n\u001b[1;32m    221\u001b[0m         \u001b[0mopener\u001b[0m \u001b[0;34m=\u001b[0m \u001b[0m_opener\u001b[0m\u001b[0;34m\u001b[0m\u001b[0;34m\u001b[0m\u001b[0m\n\u001b[0;32m--> 222\u001b[0;31m     \u001b[0;32mreturn\u001b[0m \u001b[0mopener\u001b[0m\u001b[0;34m.\u001b[0m\u001b[0mopen\u001b[0m\u001b[0;34m(\u001b[0m\u001b[0murl\u001b[0m\u001b[0;34m,\u001b[0m \u001b[0mdata\u001b[0m\u001b[0;34m,\u001b[0m \u001b[0mtimeout\u001b[0m\u001b[0;34m)\u001b[0m\u001b[0;34m\u001b[0m\u001b[0;34m\u001b[0m\u001b[0m\n\u001b[0m\u001b[1;32m    223\u001b[0m \u001b[0;34m\u001b[0m\u001b[0m\n",
            "\u001b[0;32m/usr/lib/python3.7/urllib/request.py\u001b[0m in \u001b[0;36mopen\u001b[0;34m(self, fullurl, data, timeout)\u001b[0m\n\u001b[1;32m    530\u001b[0m             \u001b[0mmeth\u001b[0m \u001b[0;34m=\u001b[0m \u001b[0mgetattr\u001b[0m\u001b[0;34m(\u001b[0m\u001b[0mprocessor\u001b[0m\u001b[0;34m,\u001b[0m \u001b[0mmeth_name\u001b[0m\u001b[0;34m)\u001b[0m\u001b[0;34m\u001b[0m\u001b[0;34m\u001b[0m\u001b[0m\n\u001b[0;32m--> 531\u001b[0;31m             \u001b[0mresponse\u001b[0m \u001b[0;34m=\u001b[0m \u001b[0mmeth\u001b[0m\u001b[0;34m(\u001b[0m\u001b[0mreq\u001b[0m\u001b[0;34m,\u001b[0m \u001b[0mresponse\u001b[0m\u001b[0;34m)\u001b[0m\u001b[0;34m\u001b[0m\u001b[0;34m\u001b[0m\u001b[0m\n\u001b[0m\u001b[1;32m    532\u001b[0m \u001b[0;34m\u001b[0m\u001b[0m\n",
            "\u001b[0;32m/usr/lib/python3.7/urllib/request.py\u001b[0m in \u001b[0;36mhttp_response\u001b[0;34m(self, request, response)\u001b[0m\n\u001b[1;32m    640\u001b[0m             response = self.parent.error(\n\u001b[0;32m--> 641\u001b[0;31m                 'http', request, response, code, msg, hdrs)\n\u001b[0m\u001b[1;32m    642\u001b[0m \u001b[0;34m\u001b[0m\u001b[0m\n",
            "\u001b[0;32m/usr/lib/python3.7/urllib/request.py\u001b[0m in \u001b[0;36merror\u001b[0;34m(self, proto, *args)\u001b[0m\n\u001b[1;32m    568\u001b[0m             \u001b[0margs\u001b[0m \u001b[0;34m=\u001b[0m \u001b[0;34m(\u001b[0m\u001b[0mdict\u001b[0m\u001b[0;34m,\u001b[0m \u001b[0;34m'default'\u001b[0m\u001b[0;34m,\u001b[0m \u001b[0;34m'http_error_default'\u001b[0m\u001b[0;34m)\u001b[0m \u001b[0;34m+\u001b[0m \u001b[0morig_args\u001b[0m\u001b[0;34m\u001b[0m\u001b[0;34m\u001b[0m\u001b[0m\n\u001b[0;32m--> 569\u001b[0;31m             \u001b[0;32mreturn\u001b[0m \u001b[0mself\u001b[0m\u001b[0;34m.\u001b[0m\u001b[0m_call_chain\u001b[0m\u001b[0;34m(\u001b[0m\u001b[0;34m*\u001b[0m\u001b[0margs\u001b[0m\u001b[0;34m)\u001b[0m\u001b[0;34m\u001b[0m\u001b[0;34m\u001b[0m\u001b[0m\n\u001b[0m\u001b[1;32m    570\u001b[0m \u001b[0;34m\u001b[0m\u001b[0m\n",
            "\u001b[0;32m/usr/lib/python3.7/urllib/request.py\u001b[0m in \u001b[0;36m_call_chain\u001b[0;34m(self, chain, kind, meth_name, *args)\u001b[0m\n\u001b[1;32m    502\u001b[0m             \u001b[0mfunc\u001b[0m \u001b[0;34m=\u001b[0m \u001b[0mgetattr\u001b[0m\u001b[0;34m(\u001b[0m\u001b[0mhandler\u001b[0m\u001b[0;34m,\u001b[0m \u001b[0mmeth_name\u001b[0m\u001b[0;34m)\u001b[0m\u001b[0;34m\u001b[0m\u001b[0;34m\u001b[0m\u001b[0m\n\u001b[0;32m--> 503\u001b[0;31m             \u001b[0mresult\u001b[0m \u001b[0;34m=\u001b[0m \u001b[0mfunc\u001b[0m\u001b[0;34m(\u001b[0m\u001b[0;34m*\u001b[0m\u001b[0margs\u001b[0m\u001b[0;34m)\u001b[0m\u001b[0;34m\u001b[0m\u001b[0;34m\u001b[0m\u001b[0m\n\u001b[0m\u001b[1;32m    504\u001b[0m             \u001b[0;32mif\u001b[0m \u001b[0mresult\u001b[0m \u001b[0;32mis\u001b[0m \u001b[0;32mnot\u001b[0m \u001b[0;32mNone\u001b[0m\u001b[0;34m:\u001b[0m\u001b[0;34m\u001b[0m\u001b[0;34m\u001b[0m\u001b[0m\n",
            "\u001b[0;32m/usr/lib/python3.7/urllib/request.py\u001b[0m in \u001b[0;36mhttp_error_default\u001b[0;34m(self, req, fp, code, msg, hdrs)\u001b[0m\n\u001b[1;32m    648\u001b[0m     \u001b[0;32mdef\u001b[0m \u001b[0mhttp_error_default\u001b[0m\u001b[0;34m(\u001b[0m\u001b[0mself\u001b[0m\u001b[0;34m,\u001b[0m \u001b[0mreq\u001b[0m\u001b[0;34m,\u001b[0m \u001b[0mfp\u001b[0m\u001b[0;34m,\u001b[0m \u001b[0mcode\u001b[0m\u001b[0;34m,\u001b[0m \u001b[0mmsg\u001b[0m\u001b[0;34m,\u001b[0m \u001b[0mhdrs\u001b[0m\u001b[0;34m)\u001b[0m\u001b[0;34m:\u001b[0m\u001b[0;34m\u001b[0m\u001b[0;34m\u001b[0m\u001b[0m\n\u001b[0;32m--> 649\u001b[0;31m         \u001b[0;32mraise\u001b[0m \u001b[0mHTTPError\u001b[0m\u001b[0;34m(\u001b[0m\u001b[0mreq\u001b[0m\u001b[0;34m.\u001b[0m\u001b[0mfull_url\u001b[0m\u001b[0;34m,\u001b[0m \u001b[0mcode\u001b[0m\u001b[0;34m,\u001b[0m \u001b[0mmsg\u001b[0m\u001b[0;34m,\u001b[0m \u001b[0mhdrs\u001b[0m\u001b[0;34m,\u001b[0m \u001b[0mfp\u001b[0m\u001b[0;34m)\u001b[0m\u001b[0;34m\u001b[0m\u001b[0;34m\u001b[0m\u001b[0m\n\u001b[0m\u001b[1;32m    650\u001b[0m \u001b[0;34m\u001b[0m\u001b[0m\n",
            "\u001b[0;31mHTTPError\u001b[0m: HTTP Error 502: Bad Gateway",
            "\nDuring handling of the above exception, another exception occurred:\n",
            "\u001b[0;31mPyngrokNgrokHTTPError\u001b[0m                     Traceback (most recent call last)",
            "\u001b[0;32m<ipython-input-9-029c4a2ec6d3>\u001b[0m in \u001b[0;36m<module>\u001b[0;34m()\u001b[0m\n\u001b[1;32m      1\u001b[0m \u001b[0;31m# Open a ngrok tunnel to the HTTP server\u001b[0m\u001b[0;34m\u001b[0m\u001b[0;34m\u001b[0m\u001b[0;34m\u001b[0m\u001b[0m\n\u001b[0;32m----> 2\u001b[0;31m \u001b[0mpublic_url\u001b[0m \u001b[0;34m=\u001b[0m \u001b[0mngrok\u001b[0m\u001b[0;34m.\u001b[0m\u001b[0mconnect\u001b[0m\u001b[0;34m(\u001b[0m\u001b[0;36m5000\u001b[0m\u001b[0;34m)\u001b[0m\u001b[0;34m.\u001b[0m\u001b[0mpublic_url\u001b[0m\u001b[0;34m\u001b[0m\u001b[0;34m\u001b[0m\u001b[0m\n\u001b[0m\u001b[1;32m      3\u001b[0m \u001b[0mprint\u001b[0m\u001b[0;34m(\u001b[0m\u001b[0;34m\" * ngrok tunnel \\\"{}\\\" -> \\\"http://127.0.0.1:{}/\\\"\"\u001b[0m\u001b[0;34m.\u001b[0m\u001b[0mformat\u001b[0m\u001b[0;34m(\u001b[0m\u001b[0mpublic_url\u001b[0m\u001b[0;34m,\u001b[0m \u001b[0;36m5000\u001b[0m\u001b[0;34m)\u001b[0m\u001b[0;34m)\u001b[0m\u001b[0;34m\u001b[0m\u001b[0;34m\u001b[0m\u001b[0m\n\u001b[1;32m      4\u001b[0m \u001b[0;34m\u001b[0m\u001b[0m\n\u001b[1;32m      5\u001b[0m \u001b[0;31m# Update any base URLs to use the public ngrok URL\u001b[0m\u001b[0;34m\u001b[0m\u001b[0;34m\u001b[0m\u001b[0;34m\u001b[0m\u001b[0m\n",
            "\u001b[0;32m/usr/local/lib/python3.7/dist-packages/pyngrok/ngrok.py\u001b[0m in \u001b[0;36mconnect\u001b[0;34m(port, proto, name, options, pyngrok_config)\u001b[0m\n\u001b[1;32m    172\u001b[0m \u001b[0;34m\u001b[0m\u001b[0m\n\u001b[1;32m    173\u001b[0m     tunnel = NgrokTunnel(api_request(\"{}/api/{}\".format(api_url, \"tunnels\"), method=\"POST\", data=options,\n\u001b[0;32m--> 174\u001b[0;31m                                      timeout=pyngrok_config.request_timeout))\n\u001b[0m\u001b[1;32m    175\u001b[0m \u001b[0;34m\u001b[0m\u001b[0m\n\u001b[1;32m    176\u001b[0m     \u001b[0;32mif\u001b[0m \u001b[0mproto\u001b[0m \u001b[0;34m==\u001b[0m \u001b[0;34m\"http\"\u001b[0m \u001b[0;32mand\u001b[0m \u001b[0;34m(\u001b[0m\u001b[0;34m\"bind_tls\"\u001b[0m \u001b[0;32mnot\u001b[0m \u001b[0;32min\u001b[0m \u001b[0moptions\u001b[0m \u001b[0;32mor\u001b[0m \u001b[0moptions\u001b[0m\u001b[0;34m[\u001b[0m\u001b[0;34m\"bind_tls\"\u001b[0m\u001b[0;34m]\u001b[0m \u001b[0;32mis\u001b[0m \u001b[0;32mnot\u001b[0m \u001b[0;32mFalse\u001b[0m\u001b[0;34m)\u001b[0m\u001b[0;34m:\u001b[0m\u001b[0;34m\u001b[0m\u001b[0;34m\u001b[0m\u001b[0m\n",
            "\u001b[0;32m/usr/local/lib/python3.7/dist-packages/pyngrok/ngrok.py\u001b[0m in \u001b[0;36mapi_request\u001b[0;34m(url, method, data, params, timeout)\u001b[0m\n\u001b[1;32m    312\u001b[0m         raise PyngrokNgrokHTTPError(\"ngrok client exception, API returned {}: {}\".format(status_code, response_data),\n\u001b[1;32m    313\u001b[0m                                     \u001b[0me\u001b[0m\u001b[0;34m.\u001b[0m\u001b[0murl\u001b[0m\u001b[0;34m,\u001b[0m\u001b[0;34m\u001b[0m\u001b[0;34m\u001b[0m\u001b[0m\n\u001b[0;32m--> 314\u001b[0;31m                                     status_code, e.msg, e.hdrs, response_data)\n\u001b[0m\u001b[1;32m    315\u001b[0m     \u001b[0;32mexcept\u001b[0m \u001b[0mURLError\u001b[0m \u001b[0;32mas\u001b[0m \u001b[0me\u001b[0m\u001b[0;34m:\u001b[0m\u001b[0;34m\u001b[0m\u001b[0;34m\u001b[0m\u001b[0m\n\u001b[1;32m    316\u001b[0m         \u001b[0;32mraise\u001b[0m \u001b[0mPyngrokNgrokURLError\u001b[0m\u001b[0;34m(\u001b[0m\u001b[0;34m\"ngrok client exception, URLError: {}\"\u001b[0m\u001b[0;34m.\u001b[0m\u001b[0mformat\u001b[0m\u001b[0;34m(\u001b[0m\u001b[0me\u001b[0m\u001b[0;34m.\u001b[0m\u001b[0mreason\u001b[0m\u001b[0;34m)\u001b[0m\u001b[0;34m,\u001b[0m \u001b[0me\u001b[0m\u001b[0;34m.\u001b[0m\u001b[0mreason\u001b[0m\u001b[0;34m)\u001b[0m\u001b[0;34m\u001b[0m\u001b[0;34m\u001b[0m\u001b[0m\n",
            "\u001b[0;31mPyngrokNgrokHTTPError\u001b[0m: ngrok client exception, API returned 502: {\"error_code\":103,\"status_code\":502,\"msg\":\"failed to start tunnel\",\"details\":{\"err\":\"Your account may not run more than 4 tunnels over a single ngrok client session.\\nThe tunnels already running on this session are:\\n[]\\n\\r\\n\\r\\nERR_NGROK_324\\r\\n\"}}\n"
          ]
        }
      ]
    },
    {
      "cell_type": "code",
      "metadata": {
        "id": "n3huqBeRosaT"
      },
      "source": [
        "# public_url\n",
        "ngrok.disconnect(public_url)"
      ],
      "execution_count": 8,
      "outputs": []
    },
    {
      "cell_type": "code",
      "metadata": {
        "id": "ofLEpm2fDJky",
        "colab": {
          "base_uri": "https://localhost:8080/"
        },
        "outputId": "77f29a33-0998-4773-baf4-eaa0ca0b4741"
      },
      "source": [
        "! python COV19_user-topic_networks.py s"
      ],
      "execution_count": null,
      "outputs": [
        {
          "output_type": "stream",
          "text": [
            "/usr/local/lib/python3.7/dist-packages/past/translation/__init__.py:35: DeprecationWarning: the imp module is deprecated in favour of importlib; see the module's documentation for alternative uses\n",
            "  import imp\n",
            "/usr/local/lib/python3.7/dist-packages/past/types/oldstr.py:5: DeprecationWarning: Using or importing the ABCs from 'collections' instead of from 'collections.abc' is deprecated since Python 3.3,and in 3.9 it will stop working\n",
            "  from collections import Iterable\n",
            "/usr/local/lib/python3.7/dist-packages/sklearn/linear_model/_least_angle.py:30: DeprecationWarning: `np.float` is a deprecated alias for the builtin `float`. To silence this warning, use `float` by itself. Doing this will not modify any behavior and is safe. If you specifically wanted the numpy scalar type, use `np.float64` here.\n",
            "Deprecated in NumPy 1.20; for more details and guidance: https://numpy.org/devdocs/release/1.20.0-notes.html#deprecations\n",
            "  method='lar', copy_X=True, eps=np.finfo(np.float).eps,\n",
            "/usr/local/lib/python3.7/dist-packages/sklearn/linear_model/_least_angle.py:169: DeprecationWarning: `np.float` is a deprecated alias for the builtin `float`. To silence this warning, use `float` by itself. Doing this will not modify any behavior and is safe. If you specifically wanted the numpy scalar type, use `np.float64` here.\n",
            "Deprecated in NumPy 1.20; for more details and guidance: https://numpy.org/devdocs/release/1.20.0-notes.html#deprecations\n",
            "  method='lar', copy_X=True, eps=np.finfo(np.float).eps,\n",
            "/usr/local/lib/python3.7/dist-packages/sklearn/linear_model/_least_angle.py:286: DeprecationWarning: `np.float` is a deprecated alias for the builtin `float`. To silence this warning, use `float` by itself. Doing this will not modify any behavior and is safe. If you specifically wanted the numpy scalar type, use `np.float64` here.\n",
            "Deprecated in NumPy 1.20; for more details and guidance: https://numpy.org/devdocs/release/1.20.0-notes.html#deprecations\n",
            "  eps=np.finfo(np.float).eps, copy_Gram=True, verbose=0,\n",
            "/usr/local/lib/python3.7/dist-packages/sklearn/linear_model/_least_angle.py:858: DeprecationWarning: `np.float` is a deprecated alias for the builtin `float`. To silence this warning, use `float` by itself. Doing this will not modify any behavior and is safe. If you specifically wanted the numpy scalar type, use `np.float64` here.\n",
            "Deprecated in NumPy 1.20; for more details and guidance: https://numpy.org/devdocs/release/1.20.0-notes.html#deprecations\n",
            "  eps=np.finfo(np.float).eps, copy_X=True, fit_path=True):\n",
            "/usr/local/lib/python3.7/dist-packages/sklearn/linear_model/_least_angle.py:1094: DeprecationWarning: `np.float` is a deprecated alias for the builtin `float`. To silence this warning, use `float` by itself. Doing this will not modify any behavior and is safe. If you specifically wanted the numpy scalar type, use `np.float64` here.\n",
            "Deprecated in NumPy 1.20; for more details and guidance: https://numpy.org/devdocs/release/1.20.0-notes.html#deprecations\n",
            "  eps=np.finfo(np.float).eps, copy_X=True, fit_path=True,\n",
            "/usr/local/lib/python3.7/dist-packages/sklearn/linear_model/_least_angle.py:1120: DeprecationWarning: `np.float` is a deprecated alias for the builtin `float`. To silence this warning, use `float` by itself. Doing this will not modify any behavior and is safe. If you specifically wanted the numpy scalar type, use `np.float64` here.\n",
            "Deprecated in NumPy 1.20; for more details and guidance: https://numpy.org/devdocs/release/1.20.0-notes.html#deprecations\n",
            "  eps=np.finfo(np.float).eps, positive=False):\n",
            "/usr/local/lib/python3.7/dist-packages/sklearn/linear_model/_least_angle.py:1349: DeprecationWarning: `np.float` is a deprecated alias for the builtin `float`. To silence this warning, use `float` by itself. Doing this will not modify any behavior and is safe. If you specifically wanted the numpy scalar type, use `np.float64` here.\n",
            "Deprecated in NumPy 1.20; for more details and guidance: https://numpy.org/devdocs/release/1.20.0-notes.html#deprecations\n",
            "  max_n_alphas=1000, n_jobs=None, eps=np.finfo(np.float).eps,\n",
            "/usr/local/lib/python3.7/dist-packages/sklearn/linear_model/_least_angle.py:1590: DeprecationWarning: `np.float` is a deprecated alias for the builtin `float`. To silence this warning, use `float` by itself. Doing this will not modify any behavior and is safe. If you specifically wanted the numpy scalar type, use `np.float64` here.\n",
            "Deprecated in NumPy 1.20; for more details and guidance: https://numpy.org/devdocs/release/1.20.0-notes.html#deprecations\n",
            "  max_n_alphas=1000, n_jobs=None, eps=np.finfo(np.float).eps,\n",
            "/usr/local/lib/python3.7/dist-packages/sklearn/linear_model/_least_angle.py:1723: DeprecationWarning: `np.float` is a deprecated alias for the builtin `float`. To silence this warning, use `float` by itself. Doing this will not modify any behavior and is safe. If you specifically wanted the numpy scalar type, use `np.float64` here.\n",
            "Deprecated in NumPy 1.20; for more details and guidance: https://numpy.org/devdocs/release/1.20.0-notes.html#deprecations\n",
            "  eps=np.finfo(np.float).eps, copy_X=True, positive=False):\n",
            "/usr/local/lib/python3.7/dist-packages/sklearn/decomposition/_lda.py:29: DeprecationWarning: `np.float` is a deprecated alias for the builtin `float`. To silence this warning, use `float` by itself. Doing this will not modify any behavior and is safe. If you specifically wanted the numpy scalar type, use `np.float64` here.\n",
            "Deprecated in NumPy 1.20; for more details and guidance: https://numpy.org/devdocs/release/1.20.0-notes.html#deprecations\n",
            "  EPS = np.finfo(np.float).eps\n",
            "/usr/local/lib/python3.7/dist-packages/jsonschema/compat.py:6: DeprecationWarning:\n",
            "\n",
            "Using or importing the ABCs from 'collections' instead of from 'collections.abc' is deprecated since Python 3.3,and in 3.9 it will stop working\n",
            "\n",
            "/usr/local/lib/python3.7/dist-packages/jsonschema/compat.py:6: DeprecationWarning:\n",
            "\n",
            "Using or importing the ABCs from 'collections' instead of from 'collections.abc' is deprecated since Python 3.3,and in 3.9 it will stop working\n",
            "\n",
            "Dash app running on http://127.0.0.1:8050/\n"
          ],
          "name": "stdout"
        }
      ]
    },
    {
      "cell_type": "code",
      "metadata": {
        "id": "hCspQZM73X2F"
      },
      "source": [
        "app._terminate_server_for_port(\"localhost\", 8050)"
      ],
      "execution_count": null,
      "outputs": []
    },
    {
      "cell_type": "code",
      "metadata": {
        "id": "wroOgh5teVZd"
      },
      "source": [
        ""
      ],
      "execution_count": null,
      "outputs": []
    }
  ]
}