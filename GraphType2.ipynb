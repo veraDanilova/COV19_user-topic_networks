{
  "nbformat": 4,
  "nbformat_minor": 0,
  "metadata": {
    "kernelspec": {
      "display_name": "py38",
      "language": "python",
      "name": "py38"
    },
    "language_info": {
      "codemirror_mode": {
        "name": "ipython",
        "version": 3
      },
      "file_extension": ".py",
      "mimetype": "text/x-python",
      "name": "python",
      "nbconvert_exporter": "python",
      "pygments_lexer": "ipython3",
      "version": "3.8.5"
    },
    "colab": {
      "name": "GraphType2.ipynb",
      "provenance": [],
      "collapsed_sections": [],
      "toc_visible": true,
      "include_colab_link": true
    }
  },
  "cells": [
    {
      "cell_type": "markdown",
      "metadata": {
        "id": "view-in-github",
        "colab_type": "text"
      },
      "source": [
        "<a href=\"https://colab.research.google.com/github/veraDanilova/COV19_user-topic_networks/blob/main/GraphType2.ipynb\" target=\"_parent\"><img src=\"https://colab.research.google.com/assets/colab-badge.svg\" alt=\"Open In Colab\"/></a>"
      ]
    },
    {
      "cell_type": "code",
      "metadata": {
        "id": "BxWewdu_NFjr"
      },
      "source": [
        "# from google.colab import drive\n",
        "# drive.mount('/content/drive/')\n",
        "\n",
        "!pip install pyLDAvis\n",
        "!pip install jupyter_dash\n",
        "!pip install dash_bootstrap_components\n",
        "!pip install -U pandas-profiling\n",
        "!pip install dash-table\n",
        "# !pip install pyngrok==4.1.1\n"
      ],
      "execution_count": null,
      "outputs": []
    },
    {
      "cell_type": "code",
      "metadata": {
        "colab": {
          "base_uri": "https://localhost:8080/"
        },
        "id": "7zf-dYglo0Nt",
        "outputId": "34ef2794-1289-4750-dd9b-3b2433cf8ee9"
      },
      "source": [
        "!git clone https://github.com/veraDanilova/COV19_user-topic_networks.git\n",
        "\n",
        "COPY_FILE = True\n",
        "! unzip /content/COV19_user-topic_networks/Proj_Data/COR_LJ_resized.csv.zip -d /content/COV19_user-topic_networks/Proj_Data/\n",
        "! unzip /content/COV19_user-topic_networks/Proj_Data/COR_TWI_resized.csv.zip -d /content/COV19_user-topic_networks/Proj_Data/"
      ],
      "execution_count": null,
      "outputs": [
        {
          "output_type": "stream",
          "text": [
            "fatal: destination path 'COV19_user-topic_networks' already exists and is not an empty directory.\n",
            "Archive:  /content/COV19_user-topic_networks/Proj_Data/COR_LJ_resized.csv.zip\n",
            "replace /content/COV19_user-topic_networks/Proj_Data/COR_LJ_resized.csv? [y]es, [n]o, [A]ll, [N]one, [r]ename: "
          ],
          "name": "stdout"
        }
      ]
    },
    {
      "cell_type": "code",
      "metadata": {
        "colab": {
          "base_uri": "https://localhost:8080/",
          "height": 564
        },
        "id": "rk3e_WSWwkgE",
        "outputId": "39a7c967-97ef-4dc9-d3a4-eb2ec071d105"
      },
      "source": [
        "# PANDAS TEST. В случае ошибки перезапустить среду выполнения\n",
        "\n",
        "import pandas as pd\n",
        "DF = pd.read_csv('/content/COV19_user-topic_networks/Proj_Data/COR_LJ_resized.csv', index_col = 0, engine = 'python')\n",
        "DF.head()"
      ],
      "execution_count": null,
      "outputs": [
        {
          "output_type": "execute_result",
          "data": {
            "text/html": [
              "<div>\n",
              "<style scoped>\n",
              "    .dataframe tbody tr th:only-of-type {\n",
              "        vertical-align: middle;\n",
              "    }\n",
              "\n",
              "    .dataframe tbody tr th {\n",
              "        vertical-align: top;\n",
              "    }\n",
              "\n",
              "    .dataframe thead th {\n",
              "        text-align: right;\n",
              "    }\n",
              "</style>\n",
              "<table border=\"1\" class=\"dataframe\">\n",
              "  <thead>\n",
              "    <tr style=\"text-align: right;\">\n",
              "      <th></th>\n",
              "      <th>index</th>\n",
              "      <th>tag</th>\n",
              "      <th>linkTo_post</th>\n",
              "      <th>title</th>\n",
              "      <th>acc_name</th>\n",
              "      <th>tags</th>\n",
              "      <th>date</th>\n",
              "      <th>name</th>\n",
              "      <th>birthdate</th>\n",
              "      <th>location</th>\n",
              "      <th>fulltext</th>\n",
              "      <th>sents</th>\n",
              "      <th>unigramsC</th>\n",
              "      <th>text_length</th>\n",
              "    </tr>\n",
              "  </thead>\n",
              "  <tbody>\n",
              "    <tr>\n",
              "      <th>0</th>\n",
              "      <td>13802.0</td>\n",
              "      <td>коронавирус</td>\n",
              "      <td>https://igorek3d.livejournal.com/743845.html</td>\n",
              "      <td>(Без заголовка)</td>\n",
              "      <td>igorek3d</td>\n",
              "      <td>['коронавирус']</td>\n",
              "      <td>2020-03-22 17:40:01</td>\n",
              "      <td>Иванов Игорь Анатольевич</td>\n",
              "      <td>None</td>\n",
              "      <td>{'country-name': 'Russian Federation', 'region...</td>\n",
              "      <td>хз, у нас полная тишина, вчера был в тренажерн...</td>\n",
              "      <td>['хз, у нас полная тишина, вчера был в тренаже...</td>\n",
              "      <td>['полный', 'тишина', 'вчера', 'тренажерный', '...</td>\n",
              "      <td>33.0</td>\n",
              "    </tr>\n",
              "    <tr>\n",
              "      <th>1</th>\n",
              "      <td>13800.0</td>\n",
              "      <td>коронавирус</td>\n",
              "      <td>https://grimnir74.livejournal.com/12515729.html</td>\n",
              "      <td>Министерство здравоохранения одобрило ... набо...</td>\n",
              "      <td>grimnir74</td>\n",
              "      <td>['коронавирус']</td>\n",
              "      <td>2020-03-22 17:45:09</td>\n",
              "      <td>Алексей С. Железнов</td>\n",
              "      <td>26 августа 1974</td>\n",
              "      <td>{'country-name': 'Ukraine', 'locality': 'Никол...</td>\n",
              "      <td>Министерство здравоохранения разрешило выпуск ...</td>\n",
              "      <td>['Министерство здравоохранения разрешило выпус...</td>\n",
              "      <td>['министерство', 'здравоохранение', 'разрешать...</td>\n",
              "      <td>153.0</td>\n",
              "    </tr>\n",
              "    <tr>\n",
              "      <th>2</th>\n",
              "      <td>13799.0</td>\n",
              "      <td>коронавирус</td>\n",
              "      <td>https://geomakss.livejournal.com/1724275.html</td>\n",
              "      <td>КПРФ следует наказать за митинг во время эпидемии</td>\n",
              "      <td>geomakss</td>\n",
              "      <td>['кпрф', 'коммунизм', 'политика', 'коронавирус...</td>\n",
              "      <td>2020-03-22 17:46:36</td>\n",
              "      <td>geomakss</td>\n",
              "      <td>20 августа</td>\n",
              "      <td>{'country-name': 'Russian Federation', 'region...</td>\n",
              "      <td>Похоже коммунисты вообразили себя непробиваемы...</td>\n",
              "      <td>['Похоже коммунисты вообразили себя непробивае...</td>\n",
              "      <td>['похоже', 'коммунист', 'воображать', 'непроби...</td>\n",
              "      <td>116.0</td>\n",
              "    </tr>\n",
              "    <tr>\n",
              "      <th>3</th>\n",
              "      <td>13798.0</td>\n",
              "      <td>коронавирус</td>\n",
              "      <td>https://umgezogen.livejournal.com/147000.html</td>\n",
              "      <td>Очень рекомендую посмотреть, как там, в Китае</td>\n",
              "      <td>umgezogen</td>\n",
              "      <td>['коронавирус', 'правительство скрывает', 'кет...</td>\n",
              "      <td>2020-03-22 17:49:34</td>\n",
              "      <td>umgezogen</td>\n",
              "      <td>14 августа 1967</td>\n",
              "      <td>{'country-name': 'Germany', 'locality': 'Nürnb...</td>\n",
              "      <td>Чтобы вы понимали 1. Кого там лечат, сколько э...</td>\n",
              "      <td>['Чтобы вы понимали 1.', 'Кого там лечат, скол...</td>\n",
              "      <td>['понимать', 'лечить', 'стоять', 'доступный', ...</td>\n",
              "      <td>15.0</td>\n",
              "    </tr>\n",
              "    <tr>\n",
              "      <th>4</th>\n",
              "      <td>13797.0</td>\n",
              "      <td>коронавирус</td>\n",
              "      <td>https://denyaleto.livejournal.com/206525.html</td>\n",
              "      <td>Дончанин в Шэньчжэнь: \"Китай находится на фини...</td>\n",
              "      <td>denyaleto</td>\n",
              "      <td>['аваков', 'донецк', 'covid-19', 'шэньчжэнь', ...</td>\n",
              "      <td>2020-03-22 17:51:03</td>\n",
              "      <td>denyaleto</td>\n",
              "      <td>28 декабря</td>\n",
              "      <td>{'country-name': 'Ukraine', 'locality': 'Донецк'}</td>\n",
              "      <td>В бытность моего студенчества многие мои сокур...</td>\n",
              "      <td>['В бытность моего студенчества многие мои сок...</td>\n",
              "      <td>['бытность', 'студенчество', 'сокурсник', 'гов...</td>\n",
              "      <td>901.0</td>\n",
              "    </tr>\n",
              "  </tbody>\n",
              "</table>\n",
              "</div>"
            ],
            "text/plain": [
              "     index  ... text_length\n",
              "0  13802.0  ...        33.0\n",
              "1  13800.0  ...       153.0\n",
              "2  13799.0  ...       116.0\n",
              "3  13798.0  ...        15.0\n",
              "4  13797.0  ...       901.0\n",
              "\n",
              "[5 rows x 14 columns]"
            ]
          },
          "metadata": {
            "tags": []
          },
          "execution_count": 19
        }
      ]
    },
    {
      "cell_type": "markdown",
      "metadata": {
        "id": "Zzx3PEwiCNEV"
      },
      "source": [
        "# GRAPH TYPE 2 JupyterDash\n",
        "\n",
        "\"Add folder to My Drive\". It will create a symlink (it won't copy, won't take space). He can now mount it the same way as you, using drive.mount(..).\n",
        "\n",
        "Share the folder with him. Then access the folder and files within using pydrive, not drive.mount(). You must use the FILE_ID instead of file names to refer to those folder and files.\n",
        "\n",
        "\n"
      ]
    },
    {
      "cell_type": "code",
      "metadata": {
        "id": "7KzJnZWYDF-e",
        "colab": {
          "base_uri": "https://localhost:8080/",
          "height": 51
        },
        "outputId": "b8bd494e-4136-49d2-a520-e2aa2ae14513"
      },
      "source": [
        "# %%writefile COV19_user-topic_networks.py\n",
        "import sys\n",
        "sys.path.append('/content/COV19_user-topic_networks/Proj_Data')\n",
        "\"\"\"\n",
        "BIDIRECTED GRAPH, UNIFIED TOPIC TABLE\n",
        "\n",
        "\"\"\"\n",
        "\n",
        "# general\n",
        "import re\n",
        "import string\n",
        "import gzip\n",
        "import os\n",
        "import itertools\n",
        "import sklearn.preprocessing\n",
        "\n",
        "# data\n",
        "import pandas as pd\n",
        "import json\n",
        "import gensim\n",
        "import gensim.corpora as corpora\n",
        "\n",
        "\n",
        "# LDA\n",
        "from gensim.models import CoherenceModel\n",
        "from gensim.models.wrappers import LdaMallet\n",
        "import pyLDAvis\n",
        "\n",
        "# Plotting tools\n",
        "import matplotlib.pyplot as plt\n",
        "# %matplotlib inline\n",
        "import networkx as nx\n",
        "import plotly.io as pio\n",
        "pio.renderers.default='notebook'\n",
        "import plotly as py\n",
        "import plotly.graph_objs as go\n",
        "import ipywidgets as widgets\n",
        "from plotly.offline import download_plotlyjs, init_notebook_mode,  iplot, plot\n",
        "init_notebook_mode(connected=True)\n",
        "\n",
        "\n",
        "from jupyter_dash import JupyterDash\n",
        "import dash\n",
        "import dash_core_components as dcc\n",
        "import dash_html_components as html\n",
        "import dash_bootstrap_components as dbc\n",
        "from dash.dependencies import Input, Output\n",
        "import LoadGraphData\n",
        "from LoadGraphData import GraphType2D\n",
        "proxy = JupyterDash.infer_jupyter_proxy_config()\n",
        "\n",
        "root_folder = '/content/COV19_user-topic_networks/Proj_Data/'\n",
        "\n",
        "# external_stylesheets = ['https://codepen.io/chriddyp/pen/bWLwgP.css']\n",
        "# app = JupyterDash(__name__, external_stylesheets=external_stylesheets)\n",
        "\n",
        "\n",
        "app = JupyterDash(__name__,external_stylesheets=[dbc.themes.COSMO])\n",
        "\n",
        "wnums = ['w1', 'w2', 'w3', 'w4', 'w5', 'w6', 'w7', 'w8', 'w9', 'w10']\n",
        "week_dates = [(\"2020-03-22 - 2020-03-29\"), \n",
        "        (\"2020-03-29 - 2020-04-05\"),\n",
        "        (\"2020-04-05 - 2020-04-12\"),\n",
        "        (\"2020-04-12 - 2020-04-19\"),\n",
        "        (\"2020-04-19 - 2020-04-26\"),\n",
        "        (\"2020-04-26 - 2020-05-03\"),\n",
        "        (\"2020-05-03 - 2020-05-10\"),\n",
        "        (\"2020-05-10 - 2020-05-17\"),\n",
        "        (\"2020-05-17 - 2020-05-24\"),\n",
        "        (\"2020-05-24 - 2020-06-01\")]\n",
        "app.layout = html.Div([\n",
        "        html.H1(\"Weekly changes of User Attention to COVID-related topics (March 22 - June 1, 2020)\", style = {'color': 'navy'}),\n",
        "        html.Div(\n",
        "            [html.Div([\n",
        "            dcc.Dropdown(\n",
        "                id='week-filter',\n",
        "                options=[{'label': i +' : '+ wd, 'value': i} for i,wd in zip(wnums, week_dates)],\n",
        "                value='w1'\n",
        "            )], style={'width': '50%'}),\n",
        "            \n",
        "            html.Div([\n",
        "            dcc.RadioItems(\n",
        "                id='cluster-filter',\n",
        "                options=[{'label': 'Cluster of '+ t, 'value': i} for i,t in zip([0, 1],['uniform activity','one-week users'])],\n",
        "                value=0,\n",
        "                labelStyle={'display': 'inline-block'},\n",
        "                # className = 'button'           \n",
        "            ),\n",
        "            \n",
        "            dcc.RadioItems(\n",
        "                id='net-filter',\n",
        "                options=[{'label': i, 'value': i} for i in ['LJ', 'Twi']],\n",
        "                value='LJ',\n",
        "                labelStyle={'display': 'inline-block'},\n",
        "                # className = 'button'\n",
        "                )\n",
        "        ])\n",
        "            ],\n",
        "        style={'display': 'flex'}),\n",
        "    \n",
        "        html.Div([\n",
        "            dcc.Graph(id = 'dd-output-container')],\n",
        "        style={'width': '70%'})\n",
        "            ])\n",
        " \n",
        "\n",
        "@app.callback(\n",
        "    dash.dependencies.Output('dd-output-container', 'figure'),\n",
        "#     [dash.dependencies.Input('week'+i, 'value') for i in wnums]+\n",
        "    [dash.dependencies.Input('week-filter', 'value'),\n",
        "    dash.dependencies.Input('cluster-filter', 'value'),\n",
        "    dash.dependencies.Input('net-filter', 'value')]\n",
        ")\n",
        "def update_output(weekfilter, clusterfilter, netfilter):\n",
        "    \n",
        "    net = netfilter\n",
        "    wnum = weekfilter\n",
        "    cl_id = clusterfilter\n",
        "\n",
        "    G = GraphType2D(net,wnum,cl_id,root_folder)\n",
        "    fig = G.runBuildGraph()\n",
        "\n",
        "    return fig\n",
        "\n",
        "app.run_server(mode='external')"
      ],
      "execution_count": 10,
      "outputs": [
        {
          "output_type": "display_data",
          "data": {
            "text/html": [
              "        <script type=\"text/javascript\">\n",
              "        window.PlotlyConfig = {MathJaxConfig: 'local'};\n",
              "        if (window.MathJax) {MathJax.Hub.Config({SVG: {font: \"STIX-Web\"}});}\n",
              "        if (typeof require !== 'undefined') {\n",
              "        require.undef(\"plotly\");\n",
              "        requirejs.config({\n",
              "            paths: {\n",
              "                'plotly': ['https://cdn.plot.ly/plotly-latest.min']\n",
              "            }\n",
              "        });\n",
              "        require(['plotly'], function(Plotly) {\n",
              "            window._Plotly = Plotly;\n",
              "        });\n",
              "        }\n",
              "        </script>\n",
              "        "
            ]
          },
          "metadata": {
            "tags": []
          }
        },
        {
          "output_type": "stream",
          "text": [
            "Dash app running on:\n"
          ],
          "name": "stdout"
        },
        {
          "output_type": "display_data",
          "data": {
            "application/javascript": [
              "(async (port, path, text, element) => {\n",
              "    if (!google.colab.kernel.accessAllowed) {\n",
              "      return;\n",
              "    }\n",
              "    element.appendChild(document.createTextNode(''));\n",
              "    const url = await google.colab.kernel.proxyPort(port);\n",
              "    const anchor = document.createElement('a');\n",
              "    anchor.href = url + path;\n",
              "    anchor.target = '_blank';\n",
              "    anchor.setAttribute('data-href', url + path);\n",
              "    anchor.textContent = text;\n",
              "    element.appendChild(anchor);\n",
              "  })(8050, \"/\", \"http://127.0.0.1:8050/\", window.element)"
            ],
            "text/plain": [
              "<IPython.core.display.Javascript object>"
            ]
          },
          "metadata": {
            "tags": []
          }
        }
      ]
    },
    {
      "cell_type": "code",
      "metadata": {
        "id": "ofLEpm2fDJky"
      },
      "source": [
        "# ! python COV19_user-topic_networks.py s"
      ],
      "execution_count": 11,
      "outputs": []
    },
    {
      "cell_type": "code",
      "metadata": {
        "id": "hCspQZM73X2F"
      },
      "source": [
        "app._terminate_server_for_port(\"localhost\", 8050)"
      ],
      "execution_count": 12,
      "outputs": []
    },
    {
      "cell_type": "code",
      "metadata": {
        "id": "wroOgh5teVZd"
      },
      "source": [
        ""
      ],
      "execution_count": null,
      "outputs": []
    }
  ]
}